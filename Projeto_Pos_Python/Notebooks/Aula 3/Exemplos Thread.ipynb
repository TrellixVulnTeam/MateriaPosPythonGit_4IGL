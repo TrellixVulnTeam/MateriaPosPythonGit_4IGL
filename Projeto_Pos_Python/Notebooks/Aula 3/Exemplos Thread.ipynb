{
 "cells": [
  {
   "cell_type": "markdown",
   "metadata": {},
   "source": [
    "## Aula 3 - Exemplos 3"
   ]
  },
  {
   "cell_type": "code",
   "execution_count": 1,
   "metadata": {},
   "outputs": [],
   "source": [
    "import threading, time\n",
    "\n",
    "class ExampleThread(threading.Thread):\n",
    "    def __init__(self, name, times, delay):\n",
    "        threading.Thread.__init__(self)\n",
    "        self.setName(name)\n",
    "        self.counter = times\n",
    "        self.delay = delay\n",
    "\n",
    "    def run(self):\n",
    "        while self.counter:\n",
    "            print('{} - iterating: {}'.format(self.getName(), self.counter))\n",
    "            time.sleep(self.delay)\n",
    "            self.counter -= 1"
   ]
  },
  {
   "cell_type": "code",
   "execution_count": 2,
   "metadata": {},
   "outputs": [
    {
     "name": "stdout",
     "output_type": "stream",
     "text": [
      "Initializing...\n",
      "T1 - iterating: 10\n",
      "T2 - iterating: 15Finished!\n",
      "\n",
      "T2 - iterating: 14\n",
      "T2 - iterating: 13\n",
      "T1 - iterating: 9\n",
      "T2 - iterating: 12\n",
      "T2 - iterating: 11\n",
      "T2 - iterating: 10\n",
      "T1 - iterating: 8\n",
      "T2 - iterating: 9\n",
      "T2 - iterating: 8\n",
      "T2 - iterating: 7\n",
      "T1 - iterating: 7\n",
      "T2 - iterating: 6\n",
      "T2 - iterating: 5\n",
      "T2 - iterating: 4\n",
      "T1 - iterating: 6\n",
      "T2 - iterating: 3\n",
      "T2 - iterating: 2\n",
      "T2 - iterating: 1\n",
      "T1 - iterating: 5\n",
      "T1 - iterating: 4\n",
      "T1 - iterating: 3\n",
      "T1 - iterating: 2\n",
      "T1 - iterating: 1\n"
     ]
    }
   ],
   "source": [
    "print('Initializing...')\n",
    "t1 = ExampleThread('T1', 10, 3)\n",
    "t2 = ExampleThread('T2', 15, 1)\n",
    "t1.start()\n",
    "t2.start()\n",
    "#t1.join()\n",
    "#t2.join()\n",
    "print('Finished!')\n"
   ]
  },
  {
   "cell_type": "code",
   "execution_count": 3,
   "metadata": {},
   "outputs": [],
   "source": [
    "def f(n, d):\n",
    "    print('{} - Start of execution'.format(threading.current_thread().name))\n",
    "    while n:\n",
    "        print('{} iterating: {}'.format(threading.current_thread().name, n))\n",
    "        time.sleep(d)\n",
    "        n -= 1\n",
    "    print('{} - End of execution'.format(threading.current_thread().name))\n",
    "    "
   ]
  },
  {
   "cell_type": "code",
   "execution_count": 4,
   "metadata": {},
   "outputs": [
    {
     "name": "stdout",
     "output_type": "stream",
     "text": [
      "TR1 - Start of execution\n",
      "TR1 iterating: 10\n",
      "Thread-6 - Start of execution\n",
      "Thread-6 iterating: 5\n",
      "TR1 iterating: 9\n"
     ]
    }
   ],
   "source": [
    "threading.Thread(target=f, args=(10, 1), name='TR1').start()\n",
    "threading.Thread(target=f, args=(5, 3)).start()"
   ]
  },
  {
   "cell_type": "code",
   "execution_count": null,
   "metadata": {},
   "outputs": [],
   "source": []
  }
 ],
 "metadata": {
  "kernelspec": {
   "display_name": "Python 3",
   "language": "python",
   "name": "python3"
  },
  "language_info": {
   "codemirror_mode": {
    "name": "ipython",
    "version": 3
   },
   "file_extension": ".py",
   "mimetype": "text/x-python",
   "name": "python",
   "nbconvert_exporter": "python",
   "pygments_lexer": "ipython3",
   "version": "3.7.3"
  }
 },
 "nbformat": 4,
 "nbformat_minor": 2
}
