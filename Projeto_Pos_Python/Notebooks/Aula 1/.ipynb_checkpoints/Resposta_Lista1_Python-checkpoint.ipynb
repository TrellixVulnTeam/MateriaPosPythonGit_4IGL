{
 "cells": [
  {
   "cell_type": "markdown",
   "metadata": {},
   "source": [
    "# Lista de Exercícios 1"
   ]
  },
  {
   "cell_type": "markdown",
   "metadata": {},
   "source": [
    "- Autor: **Bruno Scovoli Bruneli** - RA: **191215**\n",
    "- Disciplina: Python\n",
    "- Faculdade: FACENS"
   ]
  },
  {
   "cell_type": "markdown",
   "metadata": {},
   "source": [
    "<hr>"
   ]
  },
  {
   "cell_type": "markdown",
   "metadata": {},
   "source": [
    "## Instruções\n",
    "### Esta é a lista de exercícios práticos onde serão trabalhados conceitos apresentados e exercitados em sala de aula\n",
    "\n",
    "### Aspectos como clareza e organização do código, comentários, raciocínio lógico, coerência no nome de variáveis, classes e funções, utilização das estruturas mais adequadas para a solução dos problemas e o funcionamento adequado serão analisados e irão compor o valor da nota final\n",
    "\n",
    "### Procure entender exatamente o que se pede antes de iniciar a codificação. Quando se sabe o que é necessário fazer a codificação fica mais fácil, mais eficiente e mais divertida ;-)\n",
    "\n",
    "### Faça o upload do notebook Jupyter completo nomeado da seguinte forma: nome_sobrenome_RA.ipynb. Arquivos com nomes incorretos serão desconsiderados\n",
    "\n",
    "### Por fim, boa sorte e enjoy!"
   ]
  },
  {
   "cell_type": "markdown",
   "metadata": {},
   "source": [
    "<hr>"
   ]
  },
  {
   "cell_type": "markdown",
   "metadata": {},
   "source": [
    "## Exercício 1\n",
    "\n",
    "### Crie uma função com o nome *prime_number* que receberá um número como argumento. \n",
    "### Regras:\n",
    "* O argumento recebido pela função deverá ser inteiro e positivo e maior que zero, caso negativo deverá retornar a mensagem \"invalid argument\"\n",
    "* Caso o argumento recebido seja válido, a função deverá verificar se trata-se de um número primo e caso positivo, retornar a mensagem \"prime number\", caso contrário \"not a prime number\"\n",
    "* O valor máximo que a função calculará é de 5,5 * 10^7. Caso o número passado como argumento seja maior, retornar a mensagem \"argument out of range\""
   ]
  },
  {
   "cell_type": "code",
   "execution_count": 2,
   "metadata": {},
   "outputs": [],
   "source": [
    "def prime_number(num):\n",
    "    \n",
    "    val_max = 5.5 * (10**7)\n",
    "\n",
    "    if(type(num) == int and num >= 0):\n",
    "\n",
    "        if(num > val_max):\n",
    "            return 'argument out of range'\n",
    "        elif(num % 2 == 0):\n",
    "            return 'not a prime number'\n",
    "        else:\n",
    "            return 'prime number'\n",
    "\n",
    "    else:\n",
    "        return 'invalid argument'"
   ]
  },
  {
   "cell_type": "markdown",
   "metadata": {},
   "source": [
    "Chamada do método passando um argumento:"
   ]
  },
  {
   "cell_type": "code",
   "execution_count": 3,
   "metadata": {},
   "outputs": [
    {
     "data": {
      "text/plain": [
       "'not a prime number'"
      ]
     },
     "execution_count": 3,
     "metadata": {},
     "output_type": "execute_result"
    }
   ],
   "source": [
    "prime_number(10)"
   ]
  },
  {
   "cell_type": "markdown",
   "metadata": {},
   "source": [
    "<hr>"
   ]
  },
  {
   "cell_type": "markdown",
   "metadata": {},
   "source": [
    "## Exercício 2\n",
    "\n",
    "### Crie uma função com o nome *sum_of_products* que receba duas listas numéricas como argumento.\n",
    "\n",
    "### Regras:\n",
    "* Verificar todo o conteúdo das duas listas e retornar a mensagem de erro \"wrong number\" caso algum elemento não seja um número\n",
    "* A função deverá retornar a soma dos produtos de elementos de mesmo indice de cada lista\n",
    "* Caso uma das listas tenha mais elementos que a outra, considere o valor 1 para o produto com cada elemento da lista com maior número de elementos\n",
    "* Caso as duas listas estejam vazias, retornar -1."
   ]
  },
  {
   "cell_type": "code",
   "execution_count": 4,
   "metadata": {},
   "outputs": [],
   "source": [
    "def sum_of_products(l1,l2):\n",
    "    l1_error = False\n",
    "    l2_error = False\n",
    "    soma = 0\n",
    "    l3 = []\n",
    "    \n",
    "    if len(l1) > 0 or len(l2) > 0:\n",
    "        # Identifica se possui valores diferentes de inteiro na lista:\n",
    "        for i in l1:\n",
    "            if type(i) != int:\n",
    "                l1_error = True\n",
    "\n",
    "        for i in l2:\n",
    "            if type(i) != int:\n",
    "                l2_error = True\n",
    "\n",
    "        # Verifica se possui valores diferentes de inteiros identificados anteriormente na lista:\n",
    "        if l1_error == False and l2_error == False:\n",
    "            \n",
    "            # Adiciona '0' a lista com menor quantidade de valores:\n",
    "            if len(l1) > len(l2):\n",
    "                for i in range(len(l2),len(l1)):\n",
    "                    l2.append(1)\n",
    "            else:\n",
    "                for i in range(len(l1),len(l2)):\n",
    "                    l1.append(1)\n",
    "            \n",
    "            # Realiza a soma dos indices das duas listas:\n",
    "            for i in range(len(l1)):\n",
    "                soma += (l1[i] * l2[i])\n",
    "            \n",
    "            # retorna a lista com a somatória de cada index: \n",
    "            return soma\n",
    "                    \n",
    "        # Caso alguma lista possua dados diferentes de inteiro:\n",
    "        else:\n",
    "            return 'wrong number'\n",
    "    else:\n",
    "        return -1"
   ]
  },
  {
   "cell_type": "markdown",
   "metadata": {},
   "source": [
    "Criação das duas listas de valores que serão passadas como parametro para o método:"
   ]
  },
  {
   "cell_type": "code",
   "execution_count": 5,
   "metadata": {},
   "outputs": [],
   "source": [
    "l1 = [1,4,6,2,5,3]\n",
    "l2 = [1,5,6,7,8,9,5]"
   ]
  },
  {
   "cell_type": "markdown",
   "metadata": {},
   "source": [
    "Chamada do mátodo, passando l1 e l2:"
   ]
  },
  {
   "cell_type": "code",
   "execution_count": 6,
   "metadata": {},
   "outputs": [
    {
     "data": {
      "text/plain": [
       "143"
      ]
     },
     "execution_count": 6,
     "metadata": {},
     "output_type": "execute_result"
    }
   ],
   "source": [
    "sum_of_products(l1,l2)"
   ]
  },
  {
   "cell_type": "markdown",
   "metadata": {},
   "source": [
    "<hr>"
   ]
  },
  {
   "cell_type": "markdown",
   "metadata": {},
   "source": [
    "## Exercício 3\n",
    "\n",
    "### Supondo que a população de um país A seja da ordem de 90.000.000 habitantes com uma taxa anual de crescimento de 3% ao ano e que a população de um país B seja aproximadamente de 200.000.000 habitantes com uma taxa anual de cresciemento de 1,5% ao ano\n",
    "\n",
    "### Crie uma função de nome *growth_rate* que calcule e retorne o número de anos necessários para que a população do país A ultrapasse ou iguale a população do país B, mantidas essas taxas de crescimento.\n",
    "\n",
    "### Regras:\n",
    "* A função deverá receber 2 argumentos, population_a e population_b e verificar se são numéricos inteiros e maiores que zero\n",
    "* Caso um dos argumentos não obedeça a condição acima, a função deverá retornar a mensagem \"invalid argument\""
   ]
  },
  {
   "cell_type": "code",
   "execution_count": 1,
   "metadata": {},
   "outputs": [],
   "source": [
    "def growth_rate(population_a,population_b):\n",
    "    ano = 0\n",
    "    \n",
    "    if((type(population_a) == int and type(population_b) == int) and (population_a > 0 and population_b > 0)):\n",
    "        while(population_b >= population_a):\n",
    "            ano+=1\n",
    "            population_a += (population_a * 0.03)\n",
    "            population_b += (population_b * 0.015)\n",
    "\n",
    "            #print('\\nAno %i A - %0.2f ' % (i,population_a))\n",
    "            #print('Ano %i B - %0.2f ' % (i,population_b))\n",
    "  \n",
    "        return ano\n",
    "    else:\n",
    "        return 'invalid argument'"
   ]
  },
  {
   "cell_type": "markdown",
   "metadata": {},
   "source": [
    "Inicialização das duas variáveis que passaremos como parametro para o método:"
   ]
  },
  {
   "cell_type": "code",
   "execution_count": 2,
   "metadata": {},
   "outputs": [],
   "source": [
    "population_a = 90000000\n",
    "population_b = 200000000"
   ]
  },
  {
   "cell_type": "markdown",
   "metadata": {},
   "source": [
    "Chamada do método, passando as duas váriasveis como parametro:"
   ]
  },
  {
   "cell_type": "code",
   "execution_count": 3,
   "metadata": {},
   "outputs": [
    {
     "data": {
      "text/plain": [
       "55"
      ]
     },
     "execution_count": 3,
     "metadata": {},
     "output_type": "execute_result"
    }
   ],
   "source": [
    "growth_rate(population_a,population_b)"
   ]
  },
  {
   "cell_type": "markdown",
   "metadata": {},
   "source": [
    "<hr>"
   ]
  },
  {
   "cell_type": "markdown",
   "metadata": {},
   "source": [
    "## Exercício 4\n",
    "\n",
    "### Crie uma função chamada _count_list_ que receberá uma lista de números como argumento.\n",
    "\n",
    "### A função deverá retornar um *map* com as seguintes informações a respeito dos elementos da lista:\n",
    "* **max** - o maior elemento\n",
    "* **sum** - a soma dos elementos\n",
    "* **occurs** - o número de ocorrências do primeiro elemento da lista\n",
    "* **mean** - a média dos elementos\n",
    "* **near-mean** - o valor mais próximo da média dos elementos\n",
    "* **minus** - a soma dos elementos com valor negativo"
   ]
  },
  {
   "cell_type": "code",
   "execution_count": 282,
   "metadata": {},
   "outputs": [],
   "source": [
    "def count_list(lista):\n",
    "    map_dic = {}\n",
    "    dic = {}\n",
    "    occurs = 0\n",
    "    minus = 0\n",
    "    primeiro_elemento = lista[0]\n",
    "    \n",
    "    for i in lista:\n",
    "        # occurs:\n",
    "        if i == primeiro_elemento:\n",
    "            occurs +=1\n",
    "        \n",
    "        #minus:    \n",
    "        if i < 0:\n",
    "            minus += i\n",
    "        \n",
    "        #near-mean:\n",
    "        if i > med:\n",
    "            dic[i] = i - med\n",
    "        else:\n",
    "            dic[i] = med - i\n",
    "    \n",
    "    # Encontra o elemento de menor valor dentro do dicionario, retornando o key = elemento da lista:\n",
    "    for key, value in dic.items():\n",
    "        if value == min(dic.values()):\n",
    "            near_mean = key\n",
    "    \n",
    "    map_dic['max'] = max(lista)\n",
    "    map_dic['sum'] = sum(lista)\n",
    "    map_dic['occurs'] = occurs\n",
    "    map_dic['mean'] = sum(lista) / len(lista)\n",
    "    map_dic['near-mean'] = near_mean\n",
    "    map_dic['minus'] = minus\n",
    "\n",
    "    return map_dic"
   ]
  },
  {
   "cell_type": "markdown",
   "metadata": {},
   "source": [
    "Criação e inicialização da lista com valores do tipo inteiro:"
   ]
  },
  {
   "cell_type": "code",
   "execution_count": 283,
   "metadata": {},
   "outputs": [],
   "source": [
    "lista = [-10,0,2,4,7,3,7,7,7,7,2,-10]"
   ]
  },
  {
   "cell_type": "markdown",
   "metadata": {},
   "source": [
    "Chamada do método passando a lista como parametro, retornando na tela um dicinário com todas as opções calculadas:"
   ]
  },
  {
   "cell_type": "code",
   "execution_count": 284,
   "metadata": {},
   "outputs": [
    {
     "data": {
      "text/plain": [
       "{'max': 7,\n",
       " 'sum': 26,\n",
       " 'occurs': 2,\n",
       " 'mean': 2.1666666666666665,\n",
       " 'near-mean': 2,\n",
       " 'minus': -20}"
      ]
     },
     "execution_count": 284,
     "metadata": {},
     "output_type": "execute_result"
    }
   ],
   "source": [
    "count_list(lista)"
   ]
  },
  {
   "cell_type": "markdown",
   "metadata": {},
   "source": [
    "Percorrendo o Dicionário e imprindo os valores formatados:"
   ]
  },
  {
   "cell_type": "code",
   "execution_count": 280,
   "metadata": {},
   "outputs": [
    {
     "name": "stdout",
     "output_type": "stream",
     "text": [
      "max: 7\n",
      "sum: 26\n",
      "occurs: 2\n",
      "mean: 2.1666666666666665\n",
      "near-mean: 2\n",
      "minus: -20\n"
     ]
    }
   ],
   "source": [
    "dic_retorno = count_list(lista)\n",
    "\n",
    "for key, value in count_list(lista).items():\n",
    "    print(key+ ': '+ str(value))"
   ]
  }
 ],
 "metadata": {
  "kernelspec": {
   "display_name": "Python 3",
   "language": "python",
   "name": "python3"
  },
  "language_info": {
   "codemirror_mode": {
    "name": "ipython",
    "version": 3
   },
   "file_extension": ".py",
   "mimetype": "text/x-python",
   "name": "python",
   "nbconvert_exporter": "python",
   "pygments_lexer": "ipython3",
   "version": "3.7.3"
  }
 },
 "nbformat": 4,
 "nbformat_minor": 2
}
