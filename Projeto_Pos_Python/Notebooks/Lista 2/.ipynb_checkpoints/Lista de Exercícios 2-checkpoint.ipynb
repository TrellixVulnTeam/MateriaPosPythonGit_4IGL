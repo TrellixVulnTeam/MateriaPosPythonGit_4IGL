{
 "cells": [
  {
   "cell_type": "markdown",
   "metadata": {},
   "source": [
    "# Lista de Exercícios 2\n",
    "\n",
    "### Esta é a lista de exercícios práticos onde serão trabalhados conceitos apresentados e exercitados em sala de aula\n",
    "\n",
    "### Aspectos como clareza e organização do código, comentários, raciocínio lógico, coerência no nome de variáveis, classes e funções, utilização das estruturas mais adequadas para a solução dos problemas e o funcionamento adequado serão analisados e irão compor o valor da nota final\n",
    "\n",
    "### Procure entender exatamente o que se pede antes de iniciar a codificação. Quando se sabe o que é necessário fazer a codificação fica mais fácil, mais eficiente e mais divertida ;-)\n",
    "\n",
    "### Faça o upload do notebook Jupyter completo nomeado da seguinte forma: nome_sobrenome_RA.ipynb. Arquivos com nomes incorretos serão desconsiderados\n",
    "\n",
    "### Por fim, boa sorte e enjoy!"
   ]
  },
  {
   "cell_type": "markdown",
   "metadata": {},
   "source": [
    "<hr>"
   ]
  },
  {
   "cell_type": "markdown",
   "metadata": {},
   "source": [
    "## Exercício 1\n",
    "\n",
    "### Considere um arquivo de entrada no formato CSV (comma separated values) com informações relativas a acidentes na aviação civil brasileira nos últimos 10 anos (arquivo anv.csv)\n",
    "\n",
    "### As informações estão separadas pelo caracter separador ~ e entre “” (aspas) conforme o exemplo abaixo:\n",
    "\n",
    "```javascript\n",
    "\"201106142171203\"~\"PPGXE\"~\"AEROCLUBE\"~\"AVIÃO\"~\"NEIVA INDUSTRIA AERONAUTICA\"~\"56- C\"~\"PAUL\"~\"PISTÃO\"~\"MONOMOTOR\"~\"660\"~\"LEVE\"~\"2\"~\"1962\"~\"BRASIL\"~\"BRASIL\"~\"PRI\"~\" INSTRUÇÃO\"~\"SDPW\"~\"SDPW\"~\"INDETERMINADA\"~\"UNKNOWN\"~\"VOO DE INSTRUÇÃO\"~\"SUBSTANCIAL\"~\"0\"~\"2018-07-09“\n",
    "\n",
    "\"201707111402595\"~\"PPNCG\"~\"OPERADOR PARTICULAR\"~\"AVIÃO\"~\"PIPER AIRCRAFT\"~\"PA-46- 350P\"~\"PA46\"~\"TURBOÉLICE\"~\"MONOMOTOR\"~\"1950\"~\"LEVE\"~\"6\"~\"1990\"~\"NULL\"~\"BRASIL\"~\" TPP\"~\"PARTICULAR\"~\"SBBR\"~\"SBGR\"~\"POUSO\"~\"LANDING\"~\"VOO PRIVADO\"~\"NENHUM\"~\"0\"~\"2018-07-09\"'''\n",
    "```\n",
    "\n",
    "### O arquivo é composto das seguintes colunas:\n",
    "1. codigo_ocorrencia\n",
    "2. aeronave_matricula\n",
    "3. aeronave_operador_categoria 4. aeronave_tipo_veiculo\n",
    "5. aeronave_fabricante\n",
    "6. aeronave_modelo\n",
    "7. aeronave_tipo_icao\n",
    "8. aeronave_motor_tipo\n",
    "9. aeronave_motor_quantidade \n",
    "10. aeronave_pmd \n",
    "11. aeronave_pmd_categoria \n",
    "12. aeronave_assentos \n",
    "13. aeronave_ano_fabricacao\n",
    "14. aeronave_pais_fabricante \n",
    "15. aeronave_pais_registro \n",
    "16. aeronave_registro_categoria \n",
    "17. aeronave_registro_segmento \n",
    "18. aeronave_voo_origem \n",
    "19. aeronave_voo_destino \n",
    "20. aeronave_fase_operacao \n",
    "21. aeronave_fase_operacao_icao \n",
    "22. aeronave_tipo_operacao \n",
    "23. aeronave_nivel_dano \n",
    "24. total_fatalidades\n",
    "25. aeronave_dia_extracao\n",
    "\n",
    "### Crie uma função que efetue a leitura do arquivo e processe seus dados identificando o total de ocorrencias no período avaliado e, baseado nessa informação criar um arquivo de saída em formato JSON (statistics.json) com as seguintes as estatísticas (número de ocorrências e percentual do total) por fase de operação (coluna aeronave_fase_operacao), como o exemplo a seguir:\n",
    "\n",
    "```json\n",
    "\n",
    "[\n",
    "  {\n",
    "    \"fase_operacao\": \"APROXIMAÇÃO FINAL\", \n",
    "    \"ocorrencias\": 234,\n",
    "    \"percentual\": \"4,51%\"\n",
    "  },\n",
    "  {\n",
    "    \"fase_operacao\": \"INDETERMINADA\", \n",
    "    \"ocorrencias\": 180,\n",
    "    \"percentual\": \"2,43%\"\n",
    "  },\n",
    "  {\n",
    "    \"fase_operacao\": \"MANOBRA\", \n",
    "    \"ocorrencias\": 80,\n",
    "    \"percentual\": \"0,95%\"\n",
    "  }\n",
    "]\n",
    "\n",
    "```\n",
    "\n",
    "### Crie um arquivo de saida (formato CSV) com nome levels.csv contendo as seguintes informações:\n",
    "* operation -> aeronave_operador_categoria\n",
    "* type -> aeronave_tipo_veiculo\n",
    "* manufacturer -> aeronave_fabricante\n",
    "* engine_type aeronave_motor_tipo\n",
    "* engines -> aeronave_motor_quantidade\n",
    "* year_manufacturing -> aeronave_ano_fabricacao \n",
    "* seating -> aeronave_assentos\n",
    "* fatalities -> total_fatalidades\n",
    "\n",
    "### Considerando apenas acidentes cujo nível de dano da aeronave tenha sido LEVE ou NENHUM (coluna aeronave_nivel_dano) E que o número de fatalidades (total_fatalidades) tenha sido superior à 0 (zero)\n",
    "OBS: \n",
    "1. Efetuar apenas uma leitura do arquivo de entrada\n",
    "2. Efetuar todas as leituras e gravações de arquivos na pasta /tmp\n"
   ]
  },
  {
   "cell_type": "code",
   "execution_count": 86,
   "metadata": {},
   "outputs": [],
   "source": [
    "import csv\n",
    "import pandas as pd\n",
    "import json"
   ]
  },
  {
   "cell_type": "code",
   "execution_count": 87,
   "metadata": {},
   "outputs": [],
   "source": [
    "df_data1 = pd.read_csv('anv.csv',sep = \"~\",header = 0)"
   ]
  },
  {
   "cell_type": "code",
   "execution_count": 88,
   "metadata": {},
   "outputs": [],
   "source": [
    "dic = df_data1.groupby(by='aeronave_fase_operacao').size().rename_axis('aeronave_fase_operacao')\\\n",
    ".sort_values(ascending=False).to_dict()"
   ]
  },
  {
   "cell_type": "code",
   "execution_count": 89,
   "metadata": {},
   "outputs": [],
   "source": [
    "lista = []"
   ]
  },
  {
   "cell_type": "code",
   "execution_count": 90,
   "metadata": {},
   "outputs": [],
   "source": [
    "for key,value in dic.items():\n",
    "    lista.append({'fase_operacao':key,'ocorrencias':value, 'percentual': round((value/len(df_data1)) * 100,2)})"
   ]
  },
  {
   "cell_type": "code",
   "execution_count": 91,
   "metadata": {},
   "outputs": [],
   "source": [
    "with open('tmp/statistics.json','w') as f:\n",
    "    json.dump(lista,f)"
   ]
  },
  {
   "cell_type": "code",
   "execution_count": 92,
   "metadata": {},
   "outputs": [],
   "source": [
    "df_csv = df_data1.loc[df_data1.aeronave_nivel_dano.apply(lambda x: x in ['NENHUM','LEVE'])]"
   ]
  },
  {
   "cell_type": "code",
   "execution_count": 93,
   "metadata": {},
   "outputs": [],
   "source": [
    "df_csv = df_csv[['aeronave_operador_categoria',\\\n",
    "                 'aeronave_tipo_veiculo',\\\n",
    "                 'aeronave_fabricante',\\\n",
    "                 'aeronave_motor_tipo',\\\n",
    "                 'aeronave_motor_quantidade',\\\n",
    "                 'aeronave_ano_fabricacao',\\\n",
    "                 'aeronave_assentos',\\\n",
    "                 'total_fatalidades']]\\\n",
    ".rename(columns={'aeronave_operador_categoria':'operation',\\\n",
    "                 'aeronave_tipo_veiculo':'type',\\\n",
    "                 'aeronave_fabricante':'manufacturer',\\\n",
    "                 'aeronave_motor_tipo':'engine_type',\\\n",
    "                 'aeronave_motor_quantidade':'engines',\\\n",
    "                 'aeronave_ano_fabricacao':'year_manufacturing',\\\n",
    "                 'aeronave_assentos':'seating',\\\n",
    "                 'total_fatalidades':'fatalities'})"
   ]
  },
  {
   "cell_type": "code",
   "execution_count": 94,
   "metadata": {},
   "outputs": [],
   "source": [
    "df_csv.to_csv('tmp/levels.csv',index=False)"
   ]
  },
  {
   "cell_type": "markdown",
   "metadata": {},
   "source": [
    "<hr>"
   ]
  },
  {
   "cell_type": "markdown",
   "metadata": {},
   "source": [
    "## Exercício 2\n",
    "\n",
    "### Crie um programa que efetue a leitura do arquivo produzido no exercício 1 (levels.csv) e mostre na tela as seguintes informações estatísticas:\n",
    "* Quantidade total de acidentes\n",
    "* Quantidade total de acidentes agrupados por tipo de aeronave (type)\n",
    "* Ano e fabricante da aeronave mais antiga (year_manufacturing, manufacturer)\n",
    "* Quantidade de assentos e tipo de motor da aeronave mais nova (seating, engine_type)\n",
    "* A quantidade de acidentes que ocorreram com aeronaves do tipo (type) HELICÓPTERO, cuja fabricação se deu após o ano 1997\n",
    "* A quantidade de acidentes que ocorreram com aeronaves do tipo (type) AVIÃO fabricadas (manufacturer) pela CESSNA AIRCRAFT\n",
    "\n",
    "OBS: \n",
    "1. Efetuar todas as leituras e gravações de arquivos na pasta /tmp"
   ]
  },
  {
   "cell_type": "code",
   "execution_count": 19,
   "metadata": {},
   "outputs": [],
   "source": [
    "pd_data2 = pd.read_csv('tmp/levels.csv', sep=',', header=0).drop_duplicates()"
   ]
  },
  {
   "cell_type": "code",
   "execution_count": 73,
   "metadata": {},
   "outputs": [
    {
     "data": {
      "text/plain": [
       "1472"
      ]
     },
     "execution_count": 73,
     "metadata": {},
     "output_type": "execute_result"
    }
   ],
   "source": [
    "# Quantidade total de acidentes\n",
    "len(pd_data2)"
   ]
  },
  {
   "cell_type": "code",
   "execution_count": 74,
   "metadata": {},
   "outputs": [
    {
     "data": {
      "text/html": [
       "<div>\n",
       "<style scoped>\n",
       "    .dataframe tbody tr th:only-of-type {\n",
       "        vertical-align: middle;\n",
       "    }\n",
       "\n",
       "    .dataframe tbody tr th {\n",
       "        vertical-align: top;\n",
       "    }\n",
       "\n",
       "    .dataframe thead th {\n",
       "        text-align: right;\n",
       "    }\n",
       "</style>\n",
       "<table border=\"1\" class=\"dataframe\">\n",
       "  <thead>\n",
       "    <tr style=\"text-align: right;\">\n",
       "      <th></th>\n",
       "      <th>type</th>\n",
       "      <th>quantidade acidentes</th>\n",
       "    </tr>\n",
       "  </thead>\n",
       "  <tbody>\n",
       "    <tr>\n",
       "      <th>0</th>\n",
       "      <td>AVIÃO</td>\n",
       "      <td>1215</td>\n",
       "    </tr>\n",
       "    <tr>\n",
       "      <th>1</th>\n",
       "      <td>HELICÓPTERO</td>\n",
       "      <td>182</td>\n",
       "    </tr>\n",
       "    <tr>\n",
       "      <th>2</th>\n",
       "      <td>ULTRALEVE</td>\n",
       "      <td>61</td>\n",
       "    </tr>\n",
       "    <tr>\n",
       "      <th>3</th>\n",
       "      <td>ANFÍBIO</td>\n",
       "      <td>5</td>\n",
       "    </tr>\n",
       "    <tr>\n",
       "      <th>4</th>\n",
       "      <td>PLANADOR</td>\n",
       "      <td>4</td>\n",
       "    </tr>\n",
       "    <tr>\n",
       "      <th>5</th>\n",
       "      <td>INDETERMINADA</td>\n",
       "      <td>4</td>\n",
       "    </tr>\n",
       "    <tr>\n",
       "      <th>6</th>\n",
       "      <td>DIRIGÍVEL</td>\n",
       "      <td>1</td>\n",
       "    </tr>\n",
       "  </tbody>\n",
       "</table>\n",
       "</div>"
      ],
      "text/plain": [
       "            type  quantidade acidentes\n",
       "0          AVIÃO                  1215\n",
       "1    HELICÓPTERO                   182\n",
       "2      ULTRALEVE                    61\n",
       "3        ANFÍBIO                     5\n",
       "4       PLANADOR                     4\n",
       "5  INDETERMINADA                     4\n",
       "6      DIRIGÍVEL                     1"
      ]
     },
     "execution_count": 74,
     "metadata": {},
     "output_type": "execute_result"
    }
   ],
   "source": [
    "# Quantidade total de acidentes agrupados por tipo de aeronave (type)\n",
    "pd_data2.type.value_counts().rename_axis('type').reset_index(name='quantidade acidentes')"
   ]
  },
  {
   "cell_type": "code",
   "execution_count": 75,
   "metadata": {},
   "outputs": [
    {
     "data": {
      "text/plain": [
       "1936.0"
      ]
     },
     "execution_count": 75,
     "metadata": {},
     "output_type": "execute_result"
    }
   ],
   "source": [
    "#Ano e fabricante da aeronave mais antiga (year_manufacturing, manufacturer)\n",
    "pd_data2.year_manufacturing[pd_data2.year_manufacturing.apply(lambda x: x > 0)].min()"
   ]
  },
  {
   "cell_type": "code",
   "execution_count": 95,
   "metadata": {},
   "outputs": [
    {
     "data": {
      "text/html": [
       "<div>\n",
       "<style scoped>\n",
       "    .dataframe tbody tr th:only-of-type {\n",
       "        vertical-align: middle;\n",
       "    }\n",
       "\n",
       "    .dataframe tbody tr th {\n",
       "        vertical-align: top;\n",
       "    }\n",
       "\n",
       "    .dataframe thead th {\n",
       "        text-align: right;\n",
       "    }\n",
       "</style>\n",
       "<table border=\"1\" class=\"dataframe\">\n",
       "  <thead>\n",
       "    <tr style=\"text-align: right;\">\n",
       "      <th></th>\n",
       "      <th>year_manufacturing</th>\n",
       "      <th>manufacturer</th>\n",
       "    </tr>\n",
       "  </thead>\n",
       "  <tbody>\n",
       "    <tr>\n",
       "      <th>1834</th>\n",
       "      <td>1936.0</td>\n",
       "      <td>BEECH AIRCRAFT</td>\n",
       "    </tr>\n",
       "  </tbody>\n",
       "</table>\n",
       "</div>"
      ],
      "text/plain": [
       "      year_manufacturing    manufacturer\n",
       "1834              1936.0  BEECH AIRCRAFT"
      ]
     },
     "execution_count": 95,
     "metadata": {},
     "output_type": "execute_result"
    }
   ],
   "source": [
    "# Ano e fabricante da aeronava mais antiga:\n",
    "pd_data2[['year_manufacturing','manufacturer']]\\\n",
    ".loc[pd_data2.year_manufacturing == pd_data2.year_manufacturing[pd_data2.year_manufacturing.apply(lambda x: x > 0)].min()]"
   ]
  },
  {
   "cell_type": "code",
   "execution_count": 96,
   "metadata": {},
   "outputs": [
    {
     "data": {
      "text/html": [
       "<div>\n",
       "<style scoped>\n",
       "    .dataframe tbody tr th:only-of-type {\n",
       "        vertical-align: middle;\n",
       "    }\n",
       "\n",
       "    .dataframe tbody tr th {\n",
       "        vertical-align: top;\n",
       "    }\n",
       "\n",
       "    .dataframe thead th {\n",
       "        text-align: right;\n",
       "    }\n",
       "</style>\n",
       "<table border=\"1\" class=\"dataframe\">\n",
       "  <thead>\n",
       "    <tr style=\"text-align: right;\">\n",
       "      <th></th>\n",
       "      <th>engine_type</th>\n",
       "      <th>seating</th>\n",
       "    </tr>\n",
       "  </thead>\n",
       "  <tbody>\n",
       "    <tr>\n",
       "      <th>0</th>\n",
       "      <td>JATO</td>\n",
       "      <td>183.0</td>\n",
       "    </tr>\n",
       "  </tbody>\n",
       "</table>\n",
       "</div>"
      ],
      "text/plain": [
       "  engine_type  seating\n",
       "0        JATO    183.0"
      ]
     },
     "execution_count": 96,
     "metadata": {},
     "output_type": "execute_result"
    }
   ],
   "source": [
    "# Quantidade de assentos e tipo de motor da aeronave mais nova (seating, engine_type)\n",
    "pd_data2[['seating','engine_type']].loc[pd_data2.year_manufacturing == pd_data2.year_manufacturing.max()]\\\n",
    ".dropna().groupby(['engine_type']).max().reset_index()"
   ]
  },
  {
   "cell_type": "code",
   "execution_count": 97,
   "metadata": {},
   "outputs": [
    {
     "data": {
      "text/plain": [
       "120"
      ]
     },
     "execution_count": 97,
     "metadata": {},
     "output_type": "execute_result"
    }
   ],
   "source": [
    "# Quantidade de Acidentes Helicóptero acima de 1997:\n",
    "len(pd_data2.loc[(pd_data2.type.apply(lambda x: x == 'HELICÓPTERO')) &\\\n",
    "                 (pd_data2.year_manufacturing.apply(lambda x: x > 1997))])"
   ]
  },
  {
   "cell_type": "code",
   "execution_count": 98,
   "metadata": {},
   "outputs": [
    {
     "data": {
      "text/plain": [
       "229"
      ]
     },
     "execution_count": 98,
     "metadata": {},
     "output_type": "execute_result"
    }
   ],
   "source": [
    "# Quantidade de Acidentes de Avião e da Cessna Aircraft:\n",
    "len(pd_data2.loc[(pd_data2.type.apply(lambda x: x == 'AVIÃO')) &\\\n",
    "                 (pd_data2.manufacturer.apply(lambda x: x == 'CESSNA AIRCRAFT'))])"
   ]
  },
  {
   "cell_type": "markdown",
   "metadata": {},
   "source": [
    "<hr>"
   ]
  },
  {
   "cell_type": "markdown",
   "metadata": {},
   "source": [
    "## Exercício 3\n",
    "\n",
    "### Considere um arquivo de entrada no formato CSV (comma separated values) com informações relativas gastos de parlamentares do estado de São Paulo, entre os anos de 2009 e 2018 (cota_parlamentar_sp.csv). As informações estão separadas pelo caracter separador ; conforme o exemplo abaixo:\n",
    "\n",
    "```javascript\n",
    "01/01/2018 00:00;3011;2015;2018;1;PPS;ALEX MANENTE;MANUTENÇÃO DE ESCRITÓRIO DE APOIO À ATIVIDADE PARLAMENTAR;;CENTRO EMPRESARIAL MEDITERRANEO;91606\n",
    "01/01/2018 00:00;3011;2015;2018;1;PPS;ALEX MANENTE;MANUTENÇÃO DE ESCRITÓRIO DE APOIO À ATIVIDADE PARLAMENTAR;;CENTRO EMPRESARIAL MEDITERRANEO;86864\n",
    "01/01/2018 00:00;3011;2015;2018;1;PPS;ALEX MANENTE;MANUTENÇÃO DE ESCRITÓRIO DE APOIO À ATIVIDADE PARLAMENTAR;;CENTRO EMPRESARIAL MEDITERRANEO;90555\n",
    "```\n",
    "\n",
    "### As colunas estão organizadas da segunte forma:\n",
    "1. datemissao\n",
    "2. nudeputadoid\n",
    "3. nulegislatura\n",
    "4. numano\n",
    "5. nummes\n",
    "6. sgpartido\n",
    "7. txnomeparlamentar\n",
    "8. txtdescricao\n",
    "9. txtdescricaoespecificacao \n",
    "10. txtfornecedor \n",
    "11. vlrdocumento\n",
    "\n",
    "### Crie uma função que efetue a leitura do arquivo (cota_parlamentar_sp.csv) e para cada legenda (sgpartido) grave um arquivo com o nome da legenda no formato JSON (ex: DEM.json, PSDB.json)\n",
    "\n",
    "### Em cada arquivo deverá conter as seguintes informações conforme exemplo:\n",
    "\n",
    "```json\n",
    "[\n",
    "  {\n",
    "    \"legenda\": \"DEM\",\n",
    "    \"nome\": \"ROBSON TUMA\",\n",
    "    \"total\": 177565\n",
    "  },\n",
    "  {\n",
    "    \"legenda\": \"DEM\",\n",
    "    \"nome\": \"JORGINHO MALULY\",\n",
    "    \"total\": 31335515\n",
    "  },\n",
    "  {\n",
    "    \"legenda\": \"SD\",\n",
    "    \"nome\": \"PAULO PEREIRA DA SILVA\", \n",
    "    \"total\": 155445892\n",
    "  }\n",
    "]\n",
    "```\n",
    "\n",
    "* legenda (partido)\n",
    "* nome (nome do parlamentar)\n",
    "* total (total de despesas do parlamentar)\n",
    "\n",
    "OBS: \n",
    "1. Efetuar todas as leituras e gravações de arquivos na pasta /tmp"
   ]
  },
  {
   "cell_type": "code",
   "execution_count": null,
   "metadata": {},
   "outputs": [],
   "source": []
  },
  {
   "cell_type": "code",
   "execution_count": null,
   "metadata": {},
   "outputs": [],
   "source": []
  },
  {
   "cell_type": "code",
   "execution_count": null,
   "metadata": {},
   "outputs": [],
   "source": []
  },
  {
   "cell_type": "code",
   "execution_count": null,
   "metadata": {},
   "outputs": [],
   "source": []
  },
  {
   "cell_type": "code",
   "execution_count": null,
   "metadata": {},
   "outputs": [],
   "source": []
  },
  {
   "cell_type": "markdown",
   "metadata": {},
   "source": [
    "<hr>"
   ]
  }
 ],
 "metadata": {
  "kernelspec": {
   "display_name": "Python 3",
   "language": "python",
   "name": "python3"
  },
  "language_info": {
   "codemirror_mode": {
    "name": "ipython",
    "version": 3
   },
   "file_extension": ".py",
   "mimetype": "text/x-python",
   "name": "python",
   "nbconvert_exporter": "python",
   "pygments_lexer": "ipython3",
   "version": "3.7.3"
  }
 },
 "nbformat": 4,
 "nbformat_minor": 2
}
