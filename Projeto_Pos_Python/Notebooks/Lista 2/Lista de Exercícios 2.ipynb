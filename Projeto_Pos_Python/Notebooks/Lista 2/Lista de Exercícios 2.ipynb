{
 "cells": [
  {
   "cell_type": "markdown",
   "metadata": {},
   "source": [
    "# Lista de Exercícios 2\n",
    "\n",
    "### Esta é a lista de exercícios práticos onde serão trabalhados conceitos apresentados e exercitados em sala de aula\n",
    "\n",
    "### Aspectos como clareza e organização do código, comentários, raciocínio lógico, coerência no nome de variáveis, classes e funções, utilização das estruturas mais adequadas para a solução dos problemas e o funcionamento adequado serão analisados e irão compor o valor da nota final\n",
    "\n",
    "### Procure entender exatamente o que se pede antes de iniciar a codificação. Quando se sabe o que é necessário fazer a codificação fica mais fácil, mais eficiente e mais divertida ;-)\n",
    "\n",
    "### Faça o upload do notebook Jupyter completo nomeado da seguinte forma: nome_sobrenome_RA.ipynb. Arquivos com nomes incorretos serão desconsiderados\n",
    "\n",
    "### Por fim, boa sorte e enjoy!"
   ]
  },
  {
   "cell_type": "markdown",
   "metadata": {},
   "source": [
    "<hr>"
   ]
  },
  {
   "cell_type": "markdown",
   "metadata": {},
   "source": [
    "## Exercício 1\n",
    "\n",
    "### Considere um arquivo de entrada no formato CSV (comma separated values) com informações relativas a acidentes na aviação civil brasileira nos últimos 10 anos (arquivo anv.csv)\n",
    "\n",
    "### As informações estão separadas pelo caracter separador ~ e entre “” (aspas) conforme o exemplo abaixo:\n",
    "\n",
    "```javascript\n",
    "\"201106142171203\"~\"PPGXE\"~\"AEROCLUBE\"~\"AVIÃO\"~\"NEIVA INDUSTRIA AERONAUTICA\"~\"56- C\"~\"PAUL\"~\"PISTÃO\"~\"MONOMOTOR\"~\"660\"~\"LEVE\"~\"2\"~\"1962\"~\"BRASIL\"~\"BRASIL\"~\"PRI\"~\" INSTRUÇÃO\"~\"SDPW\"~\"SDPW\"~\"INDETERMINADA\"~\"UNKNOWN\"~\"VOO DE INSTRUÇÃO\"~\"SUBSTANCIAL\"~\"0\"~\"2018-07-09“\n",
    "\n",
    "\"201707111402595\"~\"PPNCG\"~\"OPERADOR PARTICULAR\"~\"AVIÃO\"~\"PIPER AIRCRAFT\"~\"PA-46- 350P\"~\"PA46\"~\"TURBOÉLICE\"~\"MONOMOTOR\"~\"1950\"~\"LEVE\"~\"6\"~\"1990\"~\"NULL\"~\"BRASIL\"~\" TPP\"~\"PARTICULAR\"~\"SBBR\"~\"SBGR\"~\"POUSO\"~\"LANDING\"~\"VOO PRIVADO\"~\"NENHUM\"~\"0\"~\"2018-07-09\"'''\n",
    "```\n",
    "\n",
    "### O arquivo é composto das seguintes colunas:\n",
    "1. codigo_ocorrencia\n",
    "2. aeronave_matricula\n",
    "3. aeronave_operador_categoria 4. aeronave_tipo_veiculo\n",
    "5. aeronave_fabricante\n",
    "6. aeronave_modelo\n",
    "7. aeronave_tipo_icao\n",
    "8. aeronave_motor_tipo\n",
    "9. aeronave_motor_quantidade \n",
    "10. aeronave_pmd \n",
    "11. aeronave_pmd_categoria \n",
    "12. aeronave_assentos \n",
    "13. aeronave_ano_fabricacao\n",
    "14. aeronave_pais_fabricante \n",
    "15. aeronave_pais_registro \n",
    "16. aeronave_registro_categoria \n",
    "17. aeronave_registro_segmento \n",
    "18. aeronave_voo_origem \n",
    "19. aeronave_voo_destino \n",
    "20. aeronave_fase_operacao \n",
    "21. aeronave_fase_operacao_icao \n",
    "22. aeronave_tipo_operacao \n",
    "23. aeronave_nivel_dano \n",
    "24. total_fatalidades\n",
    "25. aeronave_dia_extracao\n",
    "\n",
    "### Crie uma função que efetue a leitura do arquivo e processe seus dados identificando o total de ocorrencias no período avaliado e, baseado nessa informação criar um arquivo de saída em formato JSON (statistics.json) com as seguintes as estatísticas (número de ocorrências e percentual do total) por fase de operação (coluna aeronave_fase_operacao), como o exemplo a seguir:\n",
    "\n",
    "```json\n",
    "\n",
    "[\n",
    "  {\n",
    "    \"fase_operacao\": \"APROXIMAÇÃO FINAL\", \n",
    "    \"ocorrencias\": 234,\n",
    "    \"percentual\": \"4,51%\"\n",
    "  },\n",
    "  {\n",
    "    \"fase_operacao\": \"INDETERMINADA\", \n",
    "    \"ocorrencias\": 180,\n",
    "    \"percentual\": \"2,43%\"\n",
    "  },\n",
    "  {\n",
    "    \"fase_operacao\": \"MANOBRA\", \n",
    "    \"ocorrencias\": 80,\n",
    "    \"percentual\": \"0,95%\"\n",
    "  }\n",
    "]\n",
    "\n",
    "```\n",
    "\n",
    "### Crie um arquivo de saida (formato CSV) com nome levels.csv contendo as seguintes informações:\n",
    "* operation -> aeronave_operador_categoria\n",
    "* type -> aeronave_tipo_veiculo\n",
    "* manufacturer -> aeronave_fabricante\n",
    "* engine_type aeronave_motor_tipo\n",
    "* engines -> aeronave_motor_quantidade\n",
    "* year_manufacturing -> aeronave_ano_fabricacao \n",
    "* seating -> aeronave_assentos\n",
    "* fatalities -> total_fatalidades\n",
    "\n",
    "### Considerando apenas acidentes cujo nível de dano da aeronave tenha sido LEVE ou NENHUM (coluna aeronave_nivel_dano) E que o número de fatalidades (total_fatalidades) tenha sido superior à 0 (zero)\n",
    "OBS: \n",
    "1. Efetuar apenas uma leitura do arquivo de entrada\n",
    "2. Efetuar todas as leituras e gravações de arquivos na pasta /tmp\n"
   ]
  },
  {
   "cell_type": "code",
   "execution_count": null,
   "metadata": {},
   "outputs": [],
   "source": []
  },
  {
   "cell_type": "code",
   "execution_count": null,
   "metadata": {},
   "outputs": [],
   "source": []
  },
  {
   "cell_type": "code",
   "execution_count": null,
   "metadata": {},
   "outputs": [],
   "source": []
  },
  {
   "cell_type": "code",
   "execution_count": null,
   "metadata": {},
   "outputs": [],
   "source": []
  },
  {
   "cell_type": "code",
   "execution_count": null,
   "metadata": {},
   "outputs": [],
   "source": []
  },
  {
   "cell_type": "markdown",
   "metadata": {},
   "source": [
    "<hr>"
   ]
  },
  {
   "cell_type": "markdown",
   "metadata": {},
   "source": [
    "## Exercício 2\n",
    "\n",
    "### Crie um programa que efetue a leitura do arquivo produzido no exercício 1 (levels.csv) e mostre na tela as seguintes informações estatísticas:\n",
    "* Quantidade total de acidentes\n",
    "* Quantidade total de acidentes agrupados por tipo de aeronave (type)\n",
    "* Ano e fabricante da aeronave mais antiga (year_manufacturing, manufacturer)\n",
    "* Quantidade de assentos e tipo de motor da aeronave mais nova (seating, engine_type)\n",
    "* A quantidade de acidentes que ocorreram com aeronaves do tipo (type) HELICÓPTERO, cuja fabricação se deu após o ano 1997\n",
    "* A quantidade de acidentes que ocorreram com aeronaves do tipo (type) AVIÃO fabricadas (manufacturer) pela CESSNA AIRCRAFT\n",
    "\n",
    "OBS: \n",
    "1. Efetuar todas as leituras e gravações de arquivos na pasta /tmp"
   ]
  },
  {
   "cell_type": "code",
   "execution_count": null,
   "metadata": {},
   "outputs": [],
   "source": []
  },
  {
   "cell_type": "code",
   "execution_count": null,
   "metadata": {},
   "outputs": [],
   "source": []
  },
  {
   "cell_type": "code",
   "execution_count": null,
   "metadata": {},
   "outputs": [],
   "source": []
  },
  {
   "cell_type": "code",
   "execution_count": null,
   "metadata": {},
   "outputs": [],
   "source": []
  },
  {
   "cell_type": "code",
   "execution_count": null,
   "metadata": {},
   "outputs": [],
   "source": []
  },
  {
   "cell_type": "markdown",
   "metadata": {},
   "source": [
    "<hr>"
   ]
  },
  {
   "cell_type": "markdown",
   "metadata": {},
   "source": [
    "## Exercício 3\n",
    "\n",
    "### Considere um arquivo de entrada no formato CSV (comma separated values) com informações relativas gastos de parlamentares do estado de São Paulo, entre os anos de 2009 e 2018 (cota_parlamentar_sp.csv). As informações estão separadas pelo caracter separador ; conforme o exemplo abaixo:\n",
    "\n",
    "```javascript\n",
    "01/01/2018 00:00;3011;2015;2018;1;PPS;ALEX MANENTE;MANUTENÇÃO DE ESCRITÓRIO DE APOIO À ATIVIDADE PARLAMENTAR;;CENTRO EMPRESARIAL MEDITERRANEO;91606\n",
    "01/01/2018 00:00;3011;2015;2018;1;PPS;ALEX MANENTE;MANUTENÇÃO DE ESCRITÓRIO DE APOIO À ATIVIDADE PARLAMENTAR;;CENTRO EMPRESARIAL MEDITERRANEO;86864\n",
    "01/01/2018 00:00;3011;2015;2018;1;PPS;ALEX MANENTE;MANUTENÇÃO DE ESCRITÓRIO DE APOIO À ATIVIDADE PARLAMENTAR;;CENTRO EMPRESARIAL MEDITERRANEO;90555\n",
    "```\n",
    "\n",
    "### As colunas estão organizadas da segunte forma:\n",
    "1. datemissao\n",
    "2. nudeputadoid\n",
    "3. nulegislatura\n",
    "4. numano\n",
    "5. nummes\n",
    "6. sgpartido\n",
    "7. txnomeparlamentar\n",
    "8. txtdescricao\n",
    "9. txtdescricaoespecificacao \n",
    "10. txtfornecedor \n",
    "11. vlrdocumento\n",
    "\n",
    "### Crie uma função que efetue a leitura do arquivo (cota_parlamentar_sp.csv) e para cada legenda (sgpartido) grave um arquivo com o nome da legenda no formato JSON (ex: DEM.json, PSDB.json)\n",
    "\n",
    "### Em cada arquivo deverá conter as seguintes informações conforme exemplo:\n",
    "\n",
    "```json\n",
    "[\n",
    "  {\n",
    "    \"legenda\": \"DEM\",\n",
    "    \"nome\": \"ROBSON TUMA\",\n",
    "    \"total\": 177565\n",
    "  },\n",
    "  {\n",
    "    \"legenda\": \"DEM\",\n",
    "    \"nome\": \"JORGINHO MALULY\",\n",
    "    \"total\": 31335515\n",
    "  },\n",
    "  {\n",
    "    \"legenda\": \"SD\",\n",
    "    \"nome\": \"PAULO PEREIRA DA SILVA\", \n",
    "    \"total\": 155445892\n",
    "  }\n",
    "]\n",
    "```\n",
    "\n",
    "* legenda (partido)\n",
    "* nome (nome do parlamentar)\n",
    "* total (total de despesas do parlamentar)\n",
    "\n",
    "OBS: \n",
    "1. Efetuar todas as leituras e gravações de arquivos na pasta /tmp"
   ]
  },
  {
   "cell_type": "code",
   "execution_count": null,
   "metadata": {},
   "outputs": [],
   "source": []
  },
  {
   "cell_type": "code",
   "execution_count": null,
   "metadata": {},
   "outputs": [],
   "source": []
  },
  {
   "cell_type": "code",
   "execution_count": null,
   "metadata": {},
   "outputs": [],
   "source": []
  },
  {
   "cell_type": "code",
   "execution_count": null,
   "metadata": {},
   "outputs": [],
   "source": []
  },
  {
   "cell_type": "code",
   "execution_count": null,
   "metadata": {},
   "outputs": [],
   "source": []
  },
  {
   "cell_type": "markdown",
   "metadata": {},
   "source": [
    "<hr>"
   ]
  }
 ],
 "metadata": {
  "kernelspec": {
   "display_name": "Python 3",
   "language": "python",
   "name": "python3"
  },
  "language_info": {
   "codemirror_mode": {
    "name": "ipython",
    "version": 3
   },
   "file_extension": ".py",
   "mimetype": "text/x-python",
   "name": "python",
   "nbconvert_exporter": "python",
   "pygments_lexer": "ipython3",
   "version": "3.7.3"
  }
 },
 "nbformat": 4,
 "nbformat_minor": 2
}
