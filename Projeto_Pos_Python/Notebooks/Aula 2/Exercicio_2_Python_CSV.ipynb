{
 "cells": [
  {
   "cell_type": "markdown",
   "metadata": {},
   "source": [
    "#### Exercício 2 - Python - 25/05/2019"
   ]
  },
  {
   "cell_type": "markdown",
   "metadata": {},
   "source": [
    "Conteúdo: Leitura e análise de um dataset no formato .CSV\n",
    "\n",
    "Considere um arquivo CSV (comma separated values) informações demográficas sobre super heróis\n",
    "As informações do arquivo são:\n",
    "- id -Numero da linha\n",
    "- name -Nome\n",
    "- Gender -Gênero\n",
    "- Eye color -Cor dos olhos\n",
    "- Race -Raça\n",
    "- Hair color -Cor do cabelo\n",
    "- Height -Altura em centimetros\n",
    "- Publisher -Estúdio\n",
    "- Skin color -Cor da pele\n",
    "- Alignment -Vilão ou herói\n",
    "- Weight -Peso em libras\n",
    "\n",
    "Pede-se: Crie uma função que efetue a leitura do arquivo e crie\n",
    "- Um arquivo de saida (.csv) com todos os heróis do gênero masculino (id, name)\n",
    "- Um arquivo de saida (.csv) com todos os heróis do gênero feminino (id, name)\n",
    "- Um arquivo de saida (.csv) com todos os heróis sem gênero defindo (id, name)\n",
    "\n",
    "- Um arquivo de saida (.txt) com o nome de todos os heróis dos estúdios Marvel Comics e DC Comics (um nome por linha)\n",
    "- Um arquivo de saida (.txt) com o nome de todos os heróis que tenham cor de pele azul e que sejam vilões (uma única linha com os nomes separados por #)"
   ]
  },
  {
   "cell_type": "code",
   "execution_count": 71,
   "metadata": {},
   "outputs": [],
   "source": [
    "import csv\n",
    "import pandas as pd"
   ]
  },
  {
   "cell_type": "markdown",
   "metadata": {},
   "source": [
    "Leitura do Arquivo CSV:"
   ]
  },
  {
   "cell_type": "code",
   "execution_count": 72,
   "metadata": {},
   "outputs": [],
   "source": [
    "with open('heroes_information.csv',mode='r') as f:\n",
    "    csv_file = csv.reader(f, delimiter=',')\n",
    "    lista_csv = list(csv_file)"
   ]
  },
  {
   "cell_type": "code",
   "execution_count": 73,
   "metadata": {},
   "outputs": [],
   "source": [
    "colunas = lista_csv[0]\n",
    "valores = lista_csv[1:]"
   ]
  },
  {
   "cell_type": "code",
   "execution_count": 74,
   "metadata": {},
   "outputs": [],
   "source": [
    "#df = pd.DataFrame(valores, columns=colunas)"
   ]
  },
  {
   "cell_type": "code",
   "execution_count": 75,
   "metadata": {},
   "outputs": [],
   "source": [
    "#df[df['Alignment'] == 'bad'].head(4)"
   ]
  },
  {
   "cell_type": "code",
   "execution_count": 76,
   "metadata": {},
   "outputs": [],
   "source": [
    "# Inicializando as listas com as duas primeiras colunas extraidas do CSV:\n",
    "herois_man = [lista_csv[0][0:2]]\n",
    "herois_male = [lista_csv[0][0:2]]\n",
    "herois_dif = [lista_csv[0][0:2]]\n",
    "\n",
    "herois_publisher = []\n",
    "herois_color_alignment = []"
   ]
  },
  {
   "cell_type": "code",
   "execution_count": 77,
   "metadata": {},
   "outputs": [],
   "source": [
    "for i in lista_csv:\n",
    "    \n",
    "    if i[2].strip().lower() == 'male':\n",
    "        herois_man.append([i[0],i[1]])\n",
    "    elif i[2].strip().lower() == 'female':\n",
    "        herois_male.append([i[0],i[1]])\n",
    "    else:\n",
    "        herois_dif.append([i[0],i[1]])\n",
    "        \n",
    "    if i[7].strip().lower() == 'marvel comics' or i[7] == 'dc comics':\n",
    "        herois_publisher.append(i[1])\n",
    "    \n",
    "    if i[8].strip().lower() == 'blue' and i[9].strip().lower() == 'bad':\n",
    "        herois_color_alignment.append(i[1])"
   ]
  },
  {
   "cell_type": "code",
   "execution_count": 78,
   "metadata": {},
   "outputs": [],
   "source": [
    "string_color_alignment = '#'.join(herois_color_alignment)"
   ]
  },
  {
   "cell_type": "markdown",
   "metadata": {},
   "source": [
    "Funções para gravar os arquivos:"
   ]
  },
  {
   "cell_type": "code",
   "execution_count": 79,
   "metadata": {},
   "outputs": [],
   "source": [
    "def grava_csv(nome_arquivo,lista_valores):\n",
    "    with open('Data_Output_Files/'+str(nome_arquivo)+'.csv','w', newline='') as f:\n",
    "        writer = csv.writer(f, delimiter=',') \n",
    "        writer.writerows(lista_valores)"
   ]
  },
  {
   "cell_type": "code",
   "execution_count": 80,
   "metadata": {},
   "outputs": [],
   "source": [
    "def grava_txt_lista(nome_arquivo,valores):\n",
    "    with open('Data_Output_Files/'+str(nome_arquivo)+'.txt','w') as f:\n",
    "        for i in valores:\n",
    "            f.write('%s \\n' %i)"
   ]
  },
  {
   "cell_type": "code",
   "execution_count": 81,
   "metadata": {},
   "outputs": [],
   "source": [
    "def grava_txt_linha(nome_arquivo,valor):\n",
    "    with open('Data_Output_Files/'+str(nome_arquivo)+'.txt','w') as f:\n",
    "        f.write(valor)"
   ]
  },
  {
   "cell_type": "markdown",
   "metadata": {},
   "source": [
    "Grava registros:"
   ]
  },
  {
   "cell_type": "code",
   "execution_count": 82,
   "metadata": {},
   "outputs": [],
   "source": [
    "grava_csv('herois_man',herois_man)\n",
    "grava_csv('herois_male',herois_male)\n",
    "grava_csv('herois_dif',herois_dif)\n",
    "\n",
    "grava_txt_lista('herois_publisher',herois_publisher)\n",
    "grava_txt_linha('herois_color_alignment',string_color_alignment)"
   ]
  },
  {
   "cell_type": "code",
   "execution_count": null,
   "metadata": {},
   "outputs": [],
   "source": []
  }
 ],
 "metadata": {
  "kernelspec": {
   "display_name": "Python 3",
   "language": "python",
   "name": "python3"
  },
  "language_info": {
   "codemirror_mode": {
    "name": "ipython",
    "version": 3
   },
   "file_extension": ".py",
   "mimetype": "text/x-python",
   "name": "python",
   "nbconvert_exporter": "python",
   "pygments_lexer": "ipython3",
   "version": "3.7.3"
  }
 },
 "nbformat": 4,
 "nbformat_minor": 2
}
