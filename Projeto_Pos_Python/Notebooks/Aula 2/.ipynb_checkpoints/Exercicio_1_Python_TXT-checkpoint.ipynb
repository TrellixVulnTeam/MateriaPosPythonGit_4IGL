{
 "cells": [
  {
   "cell_type": "markdown",
   "metadata": {},
   "source": [
    "#### Exercício 1 - Python - 25/05/2019"
   ]
  },
  {
   "cell_type": "markdown",
   "metadata": {},
   "source": [
    "Conteúdo: Análise e leitura de arquivos .txt\n",
    "\n",
    "Considere um arquivo texto que contem uma lista de arquivos. Cada linha desse arquivo, possui as seguintes informações:\n",
    "- Nome do criador do arquivo, 6 posições, alinhado à esquerda\n",
    "- Tamanho do arquivo no formato human-readable size(ex. 2K –2 kilobytes, 3M –3 megabytes, 5G –5 gigabytes, ou o número total de bytes caso menor que 1K), com 7 posições, alinhado à direita sendo o caracter mais à direita um espaço em branco\n",
    "- Data de criação com 11 posições, no formato dd MMM YYYY (ex: 05 Jun 2005), acompanhado de um espaço em branco à direita\n",
    "- Nome do arquivo, até o final da linha\n",
    "\n",
    "Pede-se:\n",
    "- Crie uma função que receba como parâmetro o nome do arquivo\n",
    "- A função deverá abrir o arquivo em modo somente leitura e retornar a quantidadede nomes dos criadores de arquivo únicos considerando que:\n",
    "- O tamanho máximo do arquivo em bytes, seja menor que 2 * (2^20) (2 vezes 2 elevado à vigésima potencia)\n",
    "- A data de criação do arquivo seja anterior à 28 de Fevereiro de 2000."
   ]
  },
  {
   "cell_type": "code",
   "execution_count": 69,
   "metadata": {},
   "outputs": [],
   "source": [
    "import pandas as pd\n",
    "from datetime import datetime"
   ]
  },
  {
   "cell_type": "code",
   "execution_count": 141,
   "metadata": {},
   "outputs": [],
   "source": [
    "def analisa_arquivo(arquivo):\n",
    "    if len(arquivo) > 0:\n",
    "        try:\n",
    "            with open(arquivo,mode='r',encoding=\"utf-8\") as f:\n",
    "                datasource = f.readlines()\n",
    "\n",
    "            lista_file = []\n",
    "\n",
    "            for i in range(len(datasource)):\n",
    "                lista = []\n",
    "\n",
    "                name = datasource[i][0:8].strip()\n",
    "\n",
    "                if datasource[i][11] == 'G':\n",
    "                    size = float(datasource[i][8:11])\n",
    "                    size = size * (1024**3)\n",
    "                elif datasource[i][11] == 'M':\n",
    "                    size = float(datasource[i][8:11])\n",
    "                    size = size * (1024**2)\n",
    "                elif datasource[i][11] == 'K':\n",
    "                    size = float(datasource[i][8:11])\n",
    "                    size = size * 1024\n",
    "                else:\n",
    "                    size = float(datasource[i][8:11])\n",
    "\n",
    "                data = datetime.strptime(datasource[i][13:24],'%d %b %Y').strftime('%d-%m-%Y')\n",
    "                file = datasource[i][25:].replace('\\n','')\n",
    "\n",
    "                lista_file.append([name,size,data,file])\n",
    "\n",
    "            df = pd.DataFrame(lista_file, columns=['NAME','SIZE','DATE','NAME_FILE'])\n",
    "\n",
    "            df_retorno = df[(df['SIZE'] < (2 * (2^20))) & (df['DATE'] < '28-02-2000')]\n",
    "\n",
    "            return len(df_retorno.index) # df_retorno\n",
    "        except:\n",
    "            return 'Arquivo não encontrado!'\n",
    "    else:\n",
    "        return 'Informe um arquivo válido, valor não corresponde com o esperado.'"
   ]
  },
  {
   "cell_type": "code",
   "execution_count": 142,
   "metadata": {},
   "outputs": [
    {
     "data": {
      "text/plain": [
       "1"
      ]
     },
     "execution_count": 142,
     "metadata": {},
     "output_type": "execute_result"
    }
   ],
   "source": [
    "analisa_arquivo('dataSource.txt')"
   ]
  },
  {
   "cell_type": "code",
   "execution_count": 143,
   "metadata": {},
   "outputs": [
    {
     "data": {
      "text/plain": [
       "'Informe um arquivo válido, valor não corresponde com o esperado.'"
      ]
     },
     "execution_count": 143,
     "metadata": {},
     "output_type": "execute_result"
    }
   ],
   "source": [
    "analisa_arquivo('')"
   ]
  },
  {
   "cell_type": "code",
   "execution_count": 144,
   "metadata": {},
   "outputs": [
    {
     "data": {
      "text/plain": [
       "'Arquivo não encontrado!'"
      ]
     },
     "execution_count": 144,
     "metadata": {},
     "output_type": "execute_result"
    }
   ],
   "source": [
    "analisa_arquivo('amigosPOS.txt')"
   ]
  }
 ],
 "metadata": {
  "kernelspec": {
   "display_name": "Python 3",
   "language": "python",
   "name": "python3"
  },
  "language_info": {
   "codemirror_mode": {
    "name": "ipython",
    "version": 3
   },
   "file_extension": ".py",
   "mimetype": "text/x-python",
   "name": "python",
   "nbconvert_exporter": "python",
   "pygments_lexer": "ipython3",
   "version": "3.7.3"
  }
 },
 "nbformat": 4,
 "nbformat_minor": 2
}
