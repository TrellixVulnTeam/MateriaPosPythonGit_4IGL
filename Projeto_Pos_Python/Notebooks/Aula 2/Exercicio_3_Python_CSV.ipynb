{
 "cells": [
  {
   "cell_type": "markdown",
   "metadata": {},
   "source": [
    "#### Exercício 2 - Python - 25/05/2019"
   ]
  },
  {
   "cell_type": "markdown",
   "metadata": {},
   "source": [
    "Considere um arquivo CSV (comma separated values) com os seguintes com\n",
    "dados de todas as copas do mundo até o ano de 2014\n",
    "- As informações do arquivo são\n",
    "- Year - Ano da copa\n",
    "- Country - Pais sede\n",
    "- Winner - Campeão\n",
    "- Runners-Up - Vice-Campeão\n",
    "- Third - Terceiro lugar\n",
    "- Fourth - Quarto Lugar\n",
    "- GoalsScored - Total de Gols\n",
    "- QualifiedTeams - Quantidade de Times\n",
    "- MatchesPlayed - Quantidade de Jogos\n",
    "- Attendance - Publico Total\n",
    "\n",
    "Pede-se:\n",
    "- Crie uma função que efetue a leitura do arquivo e crie um arquivo de saida com as seguintes informações (uma informação por linha):\n",
    "- Soma de público das copas com anos final 0 (1930, 1950, etc)\n",
    "- Quantidade total de gols entre as copas de 1954 e 1990, inclusive\n",
    "- Média de público\n",
    "- Média de gols por partida\n",
    "- Quantidade de vezes em que o país sede foi campeão\n",
    "- Quantidade de vezes em que o time do Brasil ficou entre uma das 4 primeiras posições\n",
    "- Ano das edições em que o time da França finalizou em terceiro lugar\n",
    "- Quantidade de vitórias por país, classificada em ordem crescente do número de título-"
   ]
  },
  {
   "cell_type": "code",
   "execution_count": 167,
   "metadata": {},
   "outputs": [],
   "source": [
    "import csv\n",
    "import pandas as pd"
   ]
  },
  {
   "cell_type": "code",
   "execution_count": 168,
   "metadata": {},
   "outputs": [],
   "source": [
    "with open('WorldCups.csv',mode='r') as f:\n",
    "    csv_file = csv.reader(f, delimiter=',')\n",
    "    lista_file = list(csv_file)"
   ]
  },
  {
   "cell_type": "code",
   "execution_count": 169,
   "metadata": {},
   "outputs": [],
   "source": [
    "lista_columns = lista_file[0]\n",
    "lista_values = lista_file[1:]"
   ]
  },
  {
   "cell_type": "code",
   "execution_count": 170,
   "metadata": {},
   "outputs": [],
   "source": [
    "soma_publico_0, soma_gols_year, count_partidas, qtd_winner, brazil_win = 0,0,0,0,0\n",
    "lista_franca_3 = []"
   ]
  },
  {
   "cell_type": "code",
   "execution_count": 171,
   "metadata": {},
   "outputs": [],
   "source": [
    "for i in lista_values:\n",
    "\n",
    "    # somatoria dos publicos de ano final '0':\n",
    "    if int(i[0][3]) == 0:\n",
    "        soma_publico_0 += float(i[9].replace('.',''))\n",
    "        \n",
    "    # quantidade de gols entre os anos 1954 e 1990:\n",
    "    if int(i[0]) >= 1954 and int(i[0]) <= 1990:\n",
    "        soma_gols_year += int(i[6])\n",
    "        \n",
    "    # quantidade de partidas:\n",
    "    count_partidas+=1\n",
    "    \n",
    "    if i[1] == i[2]:\n",
    "        qtd_winner +=1\n",
    "        \n",
    "    if i[2].strip().lower() == 'brazil' or i[3].strip().lower() == 'brazil' or \\\n",
    "        i[4].strip().lower() == 'brazil' or i[5].strip().lower() == 'brazil':\n",
    "        brazil_win +=1\n",
    "        \n",
    "    if i[4].strip().lower() == 'france':\n",
    "        lista_franca_3.append(i[0])"
   ]
  },
  {
   "cell_type": "code",
   "execution_count": 173,
   "metadata": {},
   "outputs": [],
   "source": [
    "media_publico = soma_publico_0/count_partidas\n",
    "media_gols = soma_gols_year/count_partidas"
   ]
  },
  {
   "cell_type": "code",
   "execution_count": 174,
   "metadata": {},
   "outputs": [],
   "source": [
    "df = pd.DataFrame(lista_values, columns=lista_columns)\n",
    "dic_win = dict(df['Winner'].value_counts())"
   ]
  },
  {
   "cell_type": "code",
   "execution_count": 177,
   "metadata": {},
   "outputs": [
    {
     "name": "stdout",
     "output_type": "stream",
     "text": [
      "Soma Publico \"0\" - 8934841\n",
      "Soma Gols Year - 1131\n",
      "Media Publico - 446742.05\n",
      "Media Gols - 56.55\n",
      "País sede foi campeão - 5\n",
      "Qtde. Brasil entre os 4 primeiros - 11\n",
      "França em Terceito (Anos) - 1958,1986\n",
      "Qtde. vitorias por pais - {'Brazil': 5, 'Italy': 4, 'Germany FR': 3, 'Uruguay': 2, 'Argentina': 2, 'Germany': 1, 'England': 1, 'France': 1, 'Spain': 1}\n"
     ]
    }
   ],
   "source": [
    "print('Soma Publico \"0\" - %i' %soma_publico_0)\n",
    "print('Soma Gols Year - %i' %soma_gols_year)\n",
    "print('Media Publico - %0.2f' %media_publico)\n",
    "print('Media Gols - %0.2f' %media_gols)\n",
    "print('País sede foi campeão - %i' %qtd_winner)\n",
    "print('Qtde. Brasil entre os 4 primeiros - %i' %brazil_win)\n",
    "print('França em Terceito (Anos) - %s' %(','.join(lista_franca_3)))\n",
    "print('Qtde. vitorias por pais - ' +str(dic_win))"
   ]
  }
 ],
 "metadata": {
  "kernelspec": {
   "display_name": "Python 3",
   "language": "python",
   "name": "python3"
  },
  "language_info": {
   "codemirror_mode": {
    "name": "ipython",
    "version": 3
   },
   "file_extension": ".py",
   "mimetype": "text/x-python",
   "name": "python",
   "nbconvert_exporter": "python",
   "pygments_lexer": "ipython3",
   "version": "3.7.3"
  }
 },
 "nbformat": 4,
 "nbformat_minor": 2
}
